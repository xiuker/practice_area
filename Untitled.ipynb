{
 "cells": [
  {
   "cell_type": "code",
   "execution_count": 1,
   "metadata": {},
   "outputs": [],
   "source": [
    "import numpy as np"
   ]
  },
  {
   "cell_type": "code",
   "execution_count": 12,
   "metadata": {},
   "outputs": [],
   "source": [
    "X = np.array([[2,2],[5,3],[3,5],[3,4],[4,4]])\n",
    "y = np.array([0,0,1,1,1])"
   ]
  },
  {
   "cell_type": "code",
   "execution_count": 13,
   "metadata": {},
   "outputs": [],
   "source": [
    "import matplotlib.pyplot as plt"
   ]
  },
  {
   "cell_type": "code",
   "execution_count": 14,
   "metadata": {},
   "outputs": [
    {
     "data": {
      "image/png": "[encoded data removed]",
      "text/plain": [
       "<Figure size 432x288 with 1 Axes>"
      ]
     },
     "metadata": {
      "needs_background": "light"
     },
     "output_type": "display_data"
    }
   ],
   "source": [
    "plt.scatter(X[y==0,0],X[y==0,1],color='r')\n",
    "plt.scatter(X[y==1,0],X[y==1,1],color='g')\n",
    "plt.show()"
   ]
  },
  {
   "cell_type": "code",
   "execution_count": 15,
   "metadata": {},
   "outputs": [],
   "source": [
    "from collections import Counter"
   ]
  },
  {
   "cell_type": "code",
   "execution_count": 16,
   "metadata": {},
   "outputs": [],
   "source": [
    "def gini(y_train):\n",
    "    res = 0\n",
    "    c = Counter(y_train).values()\n",
    "    # print(len(y_train))\n",
    "    for i in c:\n",
    "        res += (i/len(y_train))**2\n",
    "    return 1-res"
   ]
  },
  {
   "cell_type": "code",
   "execution_count": 17,
   "metadata": {},
   "outputs": [
    {
     "data": {
      "text/plain": [
       "0.48"
      ]
     },
     "execution_count": 17,
     "metadata": {},
     "output_type": "execute_result"
    }
   ],
   "source": [
    "gini(y)"
   ]
  },
  {
   "cell_type": "code",
   "execution_count": 45,
   "metadata": {},
   "outputs": [],
   "source": [
    "def cut(X_train, y_train,v, d):\n",
    "    ind_left = (X_train[:,d] <= v)\n",
    "    ind_right = (X_train[:,d] > v)\n",
    "    return X_train[ind_left],X_train[ind_right],y_train[ind_left],y_train[ind_right]"
   ]
  },
  {
   "cell_type": "code",
   "execution_count": 62,
   "metadata": {},
   "outputs": [],
   "source": [
    "def try_split(X_train,y_train):\n",
    "    best_d = 0\n",
    "    best_v = 0\n",
    "    best_g = 1\n",
    "    for d in range(X_train.shape[1]):\n",
    "        ind = np.argsort(X_train[:,d])\n",
    "        for i in range(len(X_train)-1):\n",
    "            v = ((X_train[ind[i],d]+X_train[ind[i+1],d]))/2\n",
    "            y_left = y_train[(X_train[:,d]<=v)]\n",
    "            y_right = y_train[(X_train[:,d]>v)]\n",
    "            #a,b,y_left,y_right = cut(X_train,y_train,v,d)\n",
    "            g_all = gini(y_left)+gini(y_right)\n",
    "            if g_all<best_g:\n",
    "                best_g = g_all\n",
    "                best_d = d\n",
    "                best_v = v\n",
    "            print(d,v,g_all)\n",
    "            print(y_left,y_right,g_all)"
   ]
  },
  {
   "cell_type": "code",
   "execution_count": 63,
   "metadata": {},
   "outputs": [
    {
     "name": "stdout",
     "output_type": "stream",
     "text": [
      "0 2.5 0.375\n",
      "[0] [0 1 1 1] 0.375\n",
      "0 3.0 0.9444444444444444\n",
      "[0 1 1] [0 1] 0.9444444444444444\n",
      "0 3.5 0.9444444444444444\n",
      "[0 1 1] [0 1] 0.9444444444444444\n",
      "0 4.5 0.375\n",
      "[0 1 1 1] [0] 0.375\n",
      "1 2.5 0.375\n",
      "[0] [0 1 1 1] 0.375\n",
      "1 3.5 0.0\n",
      "[0 0] [1 1 1] 0.0\n",
      "1 4.0 0.5\n",
      "[0 0 1 1] [1] 0.5\n",
      "1 4.5 0.5\n",
      "[0 0 1 1] [1] 0.5\n"
     ]
    }
   ],
   "source": [
    "try_split(X,y)"
   ]
  },
  {
   "cell_type": "code",
   "execution_count": null,
   "metadata": {},
   "outputs": [],
   "source": []
  }
 ],
 "metadata": {
  "kernelspec": {
   "display_name": "Python 3",
   "language": "python",
   "name": "python3"
  },
  "language_info": {
   "codemirror_mode": {
    "name": "ipython",
    "version": 3
   },
   "file_extension": ".py",
   "mimetype": "text/x-python",
   "name": "python",
   "nbconvert_exporter": "python",
   "pygments_lexer": "ipython3",
   "version": "3.6.5"
  }
 },
 "nbformat": 4,
 "nbformat_minor": 2
}
